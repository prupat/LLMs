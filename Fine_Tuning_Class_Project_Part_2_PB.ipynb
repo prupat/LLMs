{
  "nbformat": 4,
  "nbformat_minor": 0,
  "metadata": {
    "colab": {
      "provenance": [],
      "gpuType": "T4",
      "authorship_tag": "ABX9TyN9OE7i8mtQ6lrRajr1ROaZ",
      "include_colab_link": true
    },
    "kernelspec": {
      "name": "python3",
      "display_name": "Python 3"
    },
    "language_info": {
      "name": "python"
    },
    "accelerator": "GPU"
  },
  "cells": [
    {
      "cell_type": "markdown",
      "metadata": {
        "id": "view-in-github",
        "colab_type": "text"
      },
      "source": [
        "<a href=\"https://colab.research.google.com/github/prupat/LLMs/blob/main/Fine_Tuning_Class_Project_Part_2_PB.ipynb\" target=\"_parent\"><img src=\"https://colab.research.google.com/assets/colab-badge.svg\" alt=\"Open In Colab\"/></a>"
      ]
    },
    {
      "cell_type": "code",
      "source": [
        "from google.colab import drive\n",
        "drive.mount('/content/drive')"
      ],
      "metadata": {
        "colab": {
          "base_uri": "https://localhost:8080/"
        },
        "id": "68MlbtlJK7yO",
        "outputId": "d2684d41-3d46-4cc1-c703-412f1cb37adb"
      },
      "execution_count": null,
      "outputs": [
        {
          "output_type": "stream",
          "name": "stdout",
          "text": [
            "Drive already mounted at /content/drive; to attempt to forcibly remount, call drive.mount(\"/content/drive\", force_remount=True).\n"
          ]
        }
      ]
    },
    {
      "cell_type": "markdown",
      "source": [
        "**2. INFERENCE/EVALUATION SECTION**"
      ],
      "metadata": {
        "id": "n5zydx67qvvj"
      }
    },
    {
      "cell_type": "code",
      "source": [
        "#Let's load the libraries\n",
        "import torch\n",
        "from transformers import MarianTokenizer, MarianMTModel"
      ],
      "metadata": {
        "id": "D2B_79ZCrc_5"
      },
      "execution_count": null,
      "outputs": []
    },
    {
      "cell_type": "code",
      "source": [
        "pip install sentencepiece sacremoses"
      ],
      "metadata": {
        "colab": {
          "base_uri": "https://localhost:8080/"
        },
        "id": "PFTqbFgGsBGV",
        "outputId": "c3454b07-5613-4e50-ccc4-3a4754293b7b"
      },
      "execution_count": null,
      "outputs": [
        {
          "output_type": "stream",
          "name": "stdout",
          "text": [
            "Requirement already satisfied: sentencepiece in /usr/local/lib/python3.10/dist-packages (0.1.99)\n",
            "Requirement already satisfied: sacremoses in /usr/local/lib/python3.10/dist-packages (0.1.1)\n",
            "Requirement already satisfied: regex in /usr/local/lib/python3.10/dist-packages (from sacremoses) (2023.6.3)\n",
            "Requirement already satisfied: click in /usr/local/lib/python3.10/dist-packages (from sacremoses) (8.1.7)\n",
            "Requirement already satisfied: joblib in /usr/local/lib/python3.10/dist-packages (from sacremoses) (1.3.2)\n",
            "Requirement already satisfied: tqdm in /usr/local/lib/python3.10/dist-packages (from sacremoses) (4.66.1)\n"
          ]
        }
      ]
    },
    {
      "cell_type": "code",
      "source": [
        "#Let's load tokenizer and model\n",
        "model_path = \"/content/drive/MyDrive/Colab Notebooks/fine_tuned_model\"\n",
        "\n",
        "# Load tokenizer\n",
        "tokenizer = MarianTokenizer.from_pretrained(model_path)\n",
        "\n",
        "# Load model\n",
        "model = MarianMTModel.from_pretrained(model_path)\n"
      ],
      "metadata": {
        "id": "plWFJpHzrpvQ"
      },
      "execution_count": null,
      "outputs": []
    },
    {
      "cell_type": "code",
      "source": [
        "#Let's set device\n",
        "device = torch.device(\"cuda\" if torch.cuda.is_available() else \"cpu\")\n",
        "model = model.to(device)"
      ],
      "metadata": {
        "id": "4_ENKef-uKry"
      },
      "execution_count": null,
      "outputs": []
    },
    {
      "cell_type": "code",
      "source": [
        "#Let's generate predictions\n",
        "def generate_translation(input_text, model, tokenizer, max_length=50):\n",
        "    input_ids = tokenizer.encode(input_text, return_tensors=\"pt\")\n",
        "    input_ids = input_ids.to(device)\n",
        "\n",
        "    translation_ids = model.generate(input_ids, max_length=max_length)\n",
        "    translation = tokenizer.decode(translation_ids[0], skip_special_tokens=True)\n",
        "\n",
        "    return translation"
      ],
      "metadata": {
        "id": "o-O6aIPUt2oz"
      },
      "execution_count": null,
      "outputs": []
    },
    {
      "cell_type": "code",
      "source": [
        "input_sentence = \"I have a delicious cup of tea\"\n",
        "translated_output = generate_translation(input_sentence, model, tokenizer)\n",
        "print(\"Translated:\", translated_output)"
      ],
      "metadata": {
        "colab": {
          "base_uri": "https://localhost:8080/"
        },
        "id": "TUwk_1-rudp5",
        "outputId": "56bd2f32-7462-40c5-9006-c9cec1c9c344"
      },
      "execution_count": null,
      "outputs": [
        {
          "output_type": "stream",
          "name": "stdout",
          "text": [
            "Translated: J'ai une délicieuse tasse de thé\n"
          ]
        }
      ]
    }
  ]
}